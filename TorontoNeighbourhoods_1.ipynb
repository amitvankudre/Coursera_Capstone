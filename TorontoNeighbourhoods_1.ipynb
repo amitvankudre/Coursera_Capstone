{
  "nbformat": 4,
  "nbformat_minor": 0,
  "metadata": {
    "colab": {
      "name": "Untitled0.ipynb",
      "provenance": [],
      "collapsed_sections": [],
      "authorship_tag": "ABX9TyMSuvIR5PDKQ3j16wYnIsHd",
      "include_colab_link": true
    },
    "kernelspec": {
      "name": "python3",
      "display_name": "Python 3"
    }
  },
  "cells": [
    {
      "cell_type": "markdown",
      "metadata": {
        "id": "view-in-github",
        "colab_type": "text"
      },
      "source": [
        "<a href=\"https://colab.research.google.com/github/amitvankudre/Coursera_Capstone/blob/main/TorontoNeighbourhoods_1.ipynb\" target=\"_parent\"><img src=\"https://colab.research.google.com/assets/colab-badge.svg\" alt=\"Open In Colab\"/></a>"
      ]
    },
    {
      "cell_type": "markdown",
      "metadata": {
        "id": "dqN3YzYt2gay"
      },
      "source": [
        "# **Importing Toronto Neighbourhood Data**\r\n",
        "\r\n"
      ]
    },
    {
      "cell_type": "code",
      "metadata": {
        "id": "EbNh0HRvv2ob"
      },
      "source": [
        "import pandas as pd\r\n",
        "import numpy as np\r\n",
        "from geopy.geocoders import Nominatim # convert an address into latitude and longitude values\r\n",
        "import requests # library to handle requests\r\n",
        "from pandas.io.json import json_normalize # tranform JSON file into a pandas dataframe\r\n",
        "import matplotlib as plt"
      ],
      "execution_count": 1,
      "outputs": []
    },
    {
      "cell_type": "code",
      "metadata": {
        "colab": {
          "base_uri": "https://localhost:8080/",
          "height": 202
        },
        "id": "LR4HlMnOwVlV",
        "outputId": "eb28b8db-c647-4b0c-9fc4-7773ed3d86c3"
      },
      "source": [
        "url = 'https://en.wikipedia.org/wiki/List_of_postal_codes_of_Canada:_M'\r\n",
        "\r\n",
        "df = pd.read_html(url)[0]\r\n",
        "df.head()"
      ],
      "execution_count": 10,
      "outputs": [
        {
          "output_type": "execute_result",
          "data": {
            "text/html": [
              "<div>\n",
              "<style scoped>\n",
              "    .dataframe tbody tr th:only-of-type {\n",
              "        vertical-align: middle;\n",
              "    }\n",
              "\n",
              "    .dataframe tbody tr th {\n",
              "        vertical-align: top;\n",
              "    }\n",
              "\n",
              "    .dataframe thead th {\n",
              "        text-align: right;\n",
              "    }\n",
              "</style>\n",
              "<table border=\"1\" class=\"dataframe\">\n",
              "  <thead>\n",
              "    <tr style=\"text-align: right;\">\n",
              "      <th></th>\n",
              "      <th>Postal Code</th>\n",
              "      <th>Borough</th>\n",
              "      <th>Neighbourhood</th>\n",
              "    </tr>\n",
              "  </thead>\n",
              "  <tbody>\n",
              "    <tr>\n",
              "      <th>0</th>\n",
              "      <td>M1A</td>\n",
              "      <td>Not assigned</td>\n",
              "      <td>Not assigned</td>\n",
              "    </tr>\n",
              "    <tr>\n",
              "      <th>1</th>\n",
              "      <td>M2A</td>\n",
              "      <td>Not assigned</td>\n",
              "      <td>Not assigned</td>\n",
              "    </tr>\n",
              "    <tr>\n",
              "      <th>2</th>\n",
              "      <td>M3A</td>\n",
              "      <td>North York</td>\n",
              "      <td>Parkwoods</td>\n",
              "    </tr>\n",
              "    <tr>\n",
              "      <th>3</th>\n",
              "      <td>M4A</td>\n",
              "      <td>North York</td>\n",
              "      <td>Victoria Village</td>\n",
              "    </tr>\n",
              "    <tr>\n",
              "      <th>4</th>\n",
              "      <td>M5A</td>\n",
              "      <td>Downtown Toronto</td>\n",
              "      <td>Regent Park, Harbourfront</td>\n",
              "    </tr>\n",
              "  </tbody>\n",
              "</table>\n",
              "</div>"
            ],
            "text/plain": [
              "  Postal Code           Borough              Neighbourhood\n",
              "0         M1A      Not assigned               Not assigned\n",
              "1         M2A      Not assigned               Not assigned\n",
              "2         M3A        North York                  Parkwoods\n",
              "3         M4A        North York           Victoria Village\n",
              "4         M5A  Downtown Toronto  Regent Park, Harbourfront"
            ]
          },
          "metadata": {
            "tags": []
          },
          "execution_count": 10
        }
      ]
    },
    {
      "cell_type": "code",
      "metadata": {
        "colab": {
          "base_uri": "https://localhost:8080/",
          "height": 202
        },
        "id": "dh6ZlFNRyVk8",
        "outputId": "4f58f3b7-a5e9-4a61-a8d4-72fc97e08057"
      },
      "source": [
        "df1 = df[df['Borough'] != 'Not assigned']\r\n",
        "df1.head()"
      ],
      "execution_count": 11,
      "outputs": [
        {
          "output_type": "execute_result",
          "data": {
            "text/html": [
              "<div>\n",
              "<style scoped>\n",
              "    .dataframe tbody tr th:only-of-type {\n",
              "        vertical-align: middle;\n",
              "    }\n",
              "\n",
              "    .dataframe tbody tr th {\n",
              "        vertical-align: top;\n",
              "    }\n",
              "\n",
              "    .dataframe thead th {\n",
              "        text-align: right;\n",
              "    }\n",
              "</style>\n",
              "<table border=\"1\" class=\"dataframe\">\n",
              "  <thead>\n",
              "    <tr style=\"text-align: right;\">\n",
              "      <th></th>\n",
              "      <th>Postal Code</th>\n",
              "      <th>Borough</th>\n",
              "      <th>Neighbourhood</th>\n",
              "    </tr>\n",
              "  </thead>\n",
              "  <tbody>\n",
              "    <tr>\n",
              "      <th>2</th>\n",
              "      <td>M3A</td>\n",
              "      <td>North York</td>\n",
              "      <td>Parkwoods</td>\n",
              "    </tr>\n",
              "    <tr>\n",
              "      <th>3</th>\n",
              "      <td>M4A</td>\n",
              "      <td>North York</td>\n",
              "      <td>Victoria Village</td>\n",
              "    </tr>\n",
              "    <tr>\n",
              "      <th>4</th>\n",
              "      <td>M5A</td>\n",
              "      <td>Downtown Toronto</td>\n",
              "      <td>Regent Park, Harbourfront</td>\n",
              "    </tr>\n",
              "    <tr>\n",
              "      <th>5</th>\n",
              "      <td>M6A</td>\n",
              "      <td>North York</td>\n",
              "      <td>Lawrence Manor, Lawrence Heights</td>\n",
              "    </tr>\n",
              "    <tr>\n",
              "      <th>6</th>\n",
              "      <td>M7A</td>\n",
              "      <td>Downtown Toronto</td>\n",
              "      <td>Queen's Park, Ontario Provincial Government</td>\n",
              "    </tr>\n",
              "  </tbody>\n",
              "</table>\n",
              "</div>"
            ],
            "text/plain": [
              "  Postal Code           Borough                                Neighbourhood\n",
              "2         M3A        North York                                    Parkwoods\n",
              "3         M4A        North York                             Victoria Village\n",
              "4         M5A  Downtown Toronto                    Regent Park, Harbourfront\n",
              "5         M6A        North York             Lawrence Manor, Lawrence Heights\n",
              "6         M7A  Downtown Toronto  Queen's Park, Ontario Provincial Government"
            ]
          },
          "metadata": {
            "tags": []
          },
          "execution_count": 11
        }
      ]
    },
    {
      "cell_type": "code",
      "metadata": {
        "colab": {
          "base_uri": "https://localhost:8080/"
        },
        "id": "xxuamGj0y-gq",
        "outputId": "cba139ee-12a0-4bcb-90d2-90439046d67a"
      },
      "source": [
        "print('The D.F has {} rows that do not have a neighboourhood assigned'.format(df1[df1.Neighbourhood == 'Not assigned'].shape[0]))\r\n",
        "\r\n",
        "df1.Neighbourhood.values"
      ],
      "execution_count": 25,
      "outputs": [
        {
          "output_type": "stream",
          "text": [
            "The D.F has 0 rows that do not have a neighboourhood assigned\n"
          ],
          "name": "stdout"
        },
        {
          "output_type": "execute_result",
          "data": {
            "text/plain": [
              "array(['Parkwoods', 'Victoria Village', 'Regent Park, Harbourfront',\n",
              "       'Lawrence Manor, Lawrence Heights',\n",
              "       \"Queen's Park, Ontario Provincial Government\",\n",
              "       'Islington Avenue, Humber Valley Village', 'Malvern, Rouge',\n",
              "       'Don Mills', 'Parkview Hill, Woodbine Gardens',\n",
              "       'Garden District, Ryerson', 'Glencairn',\n",
              "       'West Deane Park, Princess Gardens, Martin Grove, Islington, Cloverdale',\n",
              "       'Rouge Hill, Port Union, Highland Creek', 'Don Mills',\n",
              "       'Woodbine Heights', 'St. James Town', 'Humewood-Cedarvale',\n",
              "       'Eringate, Bloordale Gardens, Old Burnhamthorpe, Markland Wood',\n",
              "       'Guildwood, Morningside, West Hill', 'The Beaches', 'Berczy Park',\n",
              "       'Caledonia-Fairbanks', 'Woburn', 'Leaside', 'Central Bay Street',\n",
              "       'Christie', 'Cedarbrae', 'Hillcrest Village',\n",
              "       'Bathurst Manor, Wilson Heights, Downsview North',\n",
              "       'Thorncliffe Park', 'Richmond, Adelaide, King',\n",
              "       'Dufferin, Dovercourt Village', 'Scarborough Village',\n",
              "       'Fairview, Henry Farm, Oriole', 'Northwood Park, York University',\n",
              "       'East Toronto, Broadview North (Old East York)',\n",
              "       'Harbourfront East, Union Station, Toronto Islands',\n",
              "       'Little Portugal, Trinity',\n",
              "       'Kennedy Park, Ionview, East Birchmount Park', 'Bayview Village',\n",
              "       'Downsview', 'The Danforth West, Riverdale',\n",
              "       'Toronto Dominion Centre, Design Exchange',\n",
              "       'Brockton, Parkdale Village, Exhibition Place',\n",
              "       'Golden Mile, Clairlea, Oakridge', 'York Mills, Silver Hills',\n",
              "       'Downsview', 'India Bazaar, The Beaches West',\n",
              "       'Commerce Court, Victoria Hotel',\n",
              "       'North Park, Maple Leaf Park, Upwood Park', 'Humber Summit',\n",
              "       'Cliffside, Cliffcrest, Scarborough Village West',\n",
              "       'Willowdale, Newtonbrook', 'Downsview', 'Studio District',\n",
              "       'Bedford Park, Lawrence Manor East',\n",
              "       'Del Ray, Mount Dennis, Keelsdale and Silverthorn',\n",
              "       'Humberlea, Emery', 'Birch Cliff, Cliffside West',\n",
              "       'Willowdale, Willowdale East', 'Downsview', 'Lawrence Park',\n",
              "       'Roselawn', 'Runnymede, The Junction North', 'Weston',\n",
              "       'Dorset Park, Wexford Heights, Scarborough Town Centre',\n",
              "       'York Mills West', 'Davisville North',\n",
              "       'Forest Hill North & West, Forest Hill Road Park',\n",
              "       'High Park, The Junction South', 'Westmount', 'Wexford, Maryvale',\n",
              "       'Willowdale, Willowdale West', 'North Toronto West, Lawrence Park',\n",
              "       'The Annex, North Midtown, Yorkville', 'Parkdale, Roncesvalles',\n",
              "       'Canada Post Gateway Processing Centre',\n",
              "       'Kingsview Village, St. Phillips, Martin Grove Gardens, Richview Gardens',\n",
              "       'Agincourt', 'Davisville', 'University of Toronto, Harbord',\n",
              "       'Runnymede, Swansea', \"Clarks Corners, Tam O'Shanter, Sullivan\",\n",
              "       'Moore Park, Summerhill East',\n",
              "       'Kensington Market, Chinatown, Grange Park',\n",
              "       \"Milliken, Agincourt North, Steeles East, L'Amoreaux East\",\n",
              "       'Summerhill West, Rathnelly, South Hill, Forest Hill SE, Deer Park',\n",
              "       'CN Tower, King and Spadina, Railway Lands, Harbourfront West, Bathurst Quay, South Niagara, Island airport',\n",
              "       'New Toronto, Mimico South, Humber Bay Shores',\n",
              "       'South Steeles, Silverstone, Humbergate, Jamestown, Mount Olive, Beaumond Heights, Thistletown, Albion Gardens',\n",
              "       \"Steeles West, L'Amoreaux West\", 'Rosedale', 'Stn A PO Boxes',\n",
              "       'Alderwood, Long Branch', 'Northwest, West Humber - Clairville',\n",
              "       'Upper Rouge', 'St. James Town, Cabbagetown',\n",
              "       'First Canadian Place, Underground city',\n",
              "       'The Kingsway, Montgomery Road, Old Mill North',\n",
              "       'Church and Wellesley',\n",
              "       'Business reply mail Processing Centre, South Central Letter Processing Plant Toronto',\n",
              "       \"Old Mill South, King's Mill Park, Sunnylea, Humber Bay, Mimico NE, The Queensway East, Royal York South East, Kingsway Park South East\",\n",
              "       'Mimico NW, The Queensway West, South of Bloor, Kingsway Park South West, Royal York South West'],\n",
              "      dtype=object)"
            ]
          },
          "metadata": {
            "tags": []
          },
          "execution_count": 25
        }
      ]
    },
    {
      "cell_type": "code",
      "metadata": {
        "colab": {
          "base_uri": "https://localhost:8080/"
        },
        "id": "GeBXakh6ymTy",
        "outputId": "b4a5f69d-9c4a-4a7f-d51c-8e6f4d076f13"
      },
      "source": [
        "df1.shape"
      ],
      "execution_count": 13,
      "outputs": [
        {
          "output_type": "execute_result",
          "data": {
            "text/plain": [
              "(103, 3)"
            ]
          },
          "metadata": {
            "tags": []
          },
          "execution_count": 13
        }
      ]
    }
  ]
}